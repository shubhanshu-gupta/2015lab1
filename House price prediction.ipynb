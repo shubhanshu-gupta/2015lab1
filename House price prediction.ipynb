{
 "cells": [
  {
   "cell_type": "code",
   "execution_count": 23,
   "metadata": {
    "collapsed": true
   },
   "outputs": [],
   "source": [
    "import matplotlib.pyplot as plt\n",
    "import numpy as np\n",
    "import pandas as pd\n",
    "from sklearn import datasets, linear_model"
   ]
  },
  {
   "cell_type": "code",
   "execution_count": 24,
   "metadata": {
    "collapsed": false
   },
   "outputs": [],
   "source": [
    "def get_data(file_name):\n",
    "    data = pd.read_csv(\"C:\\Users\\Shubhanshu\\Desktop\\houserate.csv\")\n",
    "    X_param = []\n",
    "    Y_param = []\n",
    "    for single_square_feet, single_price_value in zip(data['square_feet'], data['price']):\n",
    "        X_param.append([float(single_square_feet)])\n",
    "        Y_param.append(float(single_price_value))\n",
    "    return X_param, Y_param\n",
    "    "
   ]
  },
  {
   "cell_type": "code",
   "execution_count": 25,
   "metadata": {
    "collapsed": false
   },
   "outputs": [
    {
     "name": "stdout",
     "output_type": "stream",
     "text": [
      "[[150.0], [200.0], [250.0], [300.0], [350.0], [400.0], [600.0]]\n",
      "[6450.0, 7450.0, 8450.0, 9450.0, 11450.0, 15450.0, 18450.0]\n"
     ]
    }
   ],
   "source": [
    "X, Y = get_data('C:\\Users\\Shubhanshu\\Desktop\\houserate.csv')\n",
    "print X\n",
    "print Y"
   ]
  },
  {
   "cell_type": "code",
   "execution_count": 26,
   "metadata": {
    "collapsed": true
   },
   "outputs": [],
   "source": [
    "def linear_model_main(X_param, Y_param, predict_val):\n",
    "    regr = linear_model.LinearRegression()  #This is a linear regression object\n",
    "    regr.fit(X_param, Y_param)\n",
    "    predict_outcome = regr.predict(predict_val)\n",
    "    predictions = {}\n",
    "    predictions['intercept'] = regr.intercept_\n",
    "    predictions['coefficient'] = regr.coef_\n",
    "    predictions['predicted_value'] = predict_outcome\n",
    "    return predictions\n"
   ]
  },
  {
   "cell_type": "code",
   "execution_count": 27,
   "metadata": {
    "collapsed": false
   },
   "outputs": [
    {
     "name": "stdout",
     "output_type": "stream",
     "text": [
      "Intercept Value:  1771.80851064\n",
      "Coefficient Value:  [ 28.77659574]\n",
      "Predicted Value:  [ 21915.42553191]\n"
     ]
    }
   ],
   "source": [
    "X, Y = get_data('C:\\Users\\Shubhanshu\\Desktop\\houserate.csv')\n",
    "predictval = 700\n",
    "result = linear_model_main(X, Y, predictval)\n",
    "print \"Intercept Value: \", result['intercept']\n",
    "print \"Coefficient Value: \", result['coefficient']\n",
    "print \"Predicted Value: \", result['predicted_value']"
   ]
  },
  {
   "cell_type": "code",
   "execution_count": 28,
   "metadata": {
    "collapsed": true
   },
   "outputs": [],
   "source": [
    "#Function showing the results of linear fit model\n",
    "def show_linear_line(X_param, Y_param):\n",
    "    regr = linear_model.LinearRegression()\n",
    "    regr.fit(X_param, Y_param)\n",
    "    plt.scatter(X_param, Y_param, color='blue')\n",
    "    plt.plot(X_param, regr.predict(X_param), color='red', linewidth=4)\n",
    "    plt.xticks(())\n",
    "    plt.yticks(())\n",
    "    plt.show()"
   ]
  },
  {
   "cell_type": "code",
   "execution_count": null,
   "metadata": {
    "collapsed": true
   },
   "outputs": [],
   "source": [
    "show_linear_line(X, Y)"
   ]
  },
  {
   "cell_type": "code",
   "execution_count": null,
   "metadata": {
    "collapsed": true
   },
   "outputs": [],
   "source": []
  }
 ],
 "metadata": {
  "kernelspec": {
   "display_name": "Python 2",
   "language": "python",
   "name": "python2"
  },
  "language_info": {
   "codemirror_mode": {
    "name": "ipython",
    "version": 2
   },
   "file_extension": ".py",
   "mimetype": "text/x-python",
   "name": "python",
   "nbconvert_exporter": "python",
   "pygments_lexer": "ipython2",
   "version": "2.7.10"
  }
 },
 "nbformat": 4,
 "nbformat_minor": 0
}
